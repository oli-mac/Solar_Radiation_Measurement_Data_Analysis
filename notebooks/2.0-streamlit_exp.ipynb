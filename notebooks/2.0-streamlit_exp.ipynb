{
 "cells": [
  {
   "cell_type": "code",
   "execution_count": null,
   "metadata": {},
   "outputs": [],
   "source": [
    "%pip install streamlit\n"
   ]
  },
  {
   "cell_type": "code",
   "execution_count": 2,
   "metadata": {},
   "outputs": [],
   "source": [
    "import streamlit as st\n",
    "import pandas as pd\n",
    "import matplotlib.pyplot as plt"
   ]
  },
  {
   "cell_type": "code",
   "execution_count": 6,
   "metadata": {},
   "outputs": [
    {
     "name": "stderr",
     "output_type": "stream",
     "text": [
      "C:\\Users\\MSI\\AppData\\Local\\Temp\\ipykernel_21396\\3308244661.py:1: DtypeWarning: Columns (13) have mixed types. Specify dtype option on import or set low_memory=False.\n",
      "  csv_data = pd.read_csv(r'C:\\Users\\MSI\\Documents\\start\\Solar_Radiation_Measurement_Data_Analysis\\dataset\\solar-measurements_zambia-fig-tree_ifc_qc.csv')\n"
     ]
    }
   ],
   "source": [
    "csv_data = pd.read_csv(r'C:\\Users\\MSI\\Documents\\start\\Solar_Radiation_Measurement_Data_Analysis\\dataset\\solar-measurements_zambia-fig-tree_ifc_qc.csv')\n",
    "\n",
    "csv_data['time'] = pd.to_datetime(csv_data['time'])\n",
    "\n",
    "\n",
    "csv_data.rename(columns={\n",
    "    'dhi_pyr': 'DHI',\n",
    "    'ghi_pyr_1': 'GHI',\n",
    "    'air_temperature': 'Tamb',\n",
    "    'gti_clean': 'ModA',\n",
    "    'gti_soil': 'ModB',\n",
    "    'wind_speed': 'WS',\n",
    "    'relative_humidity': 'RH',\n",
    "    'barometric_pressure': 'BP',\n",
    "    'wind_from_direction': 'WD',\n",
    "    'sensor_cleaning': 'Cleaning',\n",
    "}, inplace=True)\n",
    "\n",
    "# Set the time column as the index\n",
    "csv_data.set_index('time', inplace=True)\n",
    "\n"
   ]
  },
  {
   "cell_type": "code",
   "execution_count": null,
   "metadata": {},
   "outputs": [],
   "source": []
  }
 ],
 "metadata": {
  "kernelspec": {
   "display_name": "solar_radiation",
   "language": "python",
   "name": "python3"
  },
  "language_info": {
   "codemirror_mode": {
    "name": "ipython",
    "version": 3
   },
   "file_extension": ".py",
   "mimetype": "text/x-python",
   "name": "python",
   "nbconvert_exporter": "python",
   "pygments_lexer": "ipython3",
   "version": "3.12.5"
  }
 },
 "nbformat": 4,
 "nbformat_minor": 2
}
